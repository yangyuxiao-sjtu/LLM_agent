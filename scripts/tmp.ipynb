{
 "cells": [
  {
   "cell_type": "code",
   "execution_count": 1,
   "metadata": {},
   "outputs": [],
   "source": [
    "import json\n",
    "new_data = []\n",
    "with open(\"/mnt/sda/yuxiao_code/LLM_subgoal/prompts/pddl.json\", \"r\") as g:\n",
    "    pddl = json.load(g)\n",
    "for pd in pddl:\n",
    "    if 'clean' in pd['task_type']:\n",
    "        pd[\"pddl\"]['object_state']='clean'\n",
    "    elif 'cool' in pd['task_type']:\n",
    "        pd[\"pddl\"][\"object_state\"]='cool'\n",
    "    elif 'heat' in pd['task_type']:\n",
    "        pd['pddl']['object_state']='heat'\n",
    "    else:\n",
    "        pd[\"pddl\"][\"object_state\"] = \"None\"\n",
    "    if 'two' in pd['task_type']:\n",
    "        pd[\"pddl\"][\"two_object\"] = True\n",
    "    else: pd[\"pddl\"][\"two_object\"]=False\n",
    "\n",
    "    new_data.append(pd)\n",
    "with open(\"/mnt/sda/yuxiao_code/LLM_subgoal/prompts/pddll.json\", \"w\") as f:\n",
    "    json.dump(new_data,f,indent=2)"
   ]
  },
  {
   "cell_type": "code",
   "execution_count": 11,
   "metadata": {},
   "outputs": [],
   "source": [
    "import json\n",
    "\n",
    "new_data = []\n",
    "with open(\"/mnt/sda/yuxiao_code/LLM_subgoal/prompts/pddl.json\", \"r\") as g:\n",
    "    pddl = json.load(g)\n",
    "for pd in pddl:\n",
    "    if 'clean' in pd['task_type']:\n",
    "        if   pd['pddl']['mrecep_target']!=\"\":\n",
    "            print(pd[\"task_desc\"][0])"
   ]
  },
  {
   "cell_type": "code",
   "execution_count": 4,
   "metadata": {},
   "outputs": [],
   "source": [
    "import json\n",
    "with open('/mnt/sda/yuxiao_code/LLM_subgoal/prompts/llm_samples_n.json','r' )as f:\n",
    "    ori= json.load(f)\n",
    "with open('/mnt/sda/yuxiao_code/LLM_subgoal/prompts/pddl.json','r') as g:\n",
    "    pddl = json.load(g)\n",
    "new_data=[]\n",
    "for item in ori:\n",
    "    tsk= item[0]['task']\n",
    "    for pd in pddl:\n",
    "        if tsk in pd['task_desc']:\n",
    "            item[0]['task_desc']=pd['task_desc']\n",
    "            item[0]['pddl']=pd['pddl']\n",
    "            new_data.append(item)\n",
    "            break\n",
    "with open('/mnt/sda/yuxiao_code/LLM_subgoal/prompts/pddl_n.json','w') as d:\n",
    "    json.dump(new_data,d,indent=2)\n"
   ]
  },
  {
   "cell_type": "code",
   "execution_count": 3,
   "metadata": {},
   "outputs": [],
   "source": [
    "import json\n",
    "with open('/mnt/sda/yuxiao_code/LLM_subgoal/prompts/value.json','r') as f:\n",
    "    ori = json.load(f)\n",
    "with open('/mnt/sda/yuxiao_code/LLM_subgoal/prompts/pddl_n.json','r') as g:\n",
    "    pddl = json.load(g)\n",
    "new_data = []\n",
    "for item in ori:\n",
    "    tsk =item['task']\n",
    "    for tk in pddl:\n",
    "        if tsk in tk[0]['task_desc']:\n",
    "            item['task_desc']=tk[0]['task_desc']\n",
    "            item['pddl']=tk[0]['pddl']\n",
    "            new_data.append(item)\n",
    "            break\n",
    "with open('/mnt/sda/yuxiao_code/LLM_subgoal/prompts/value_n.json','w') as d:\n",
    "    json.dump(new_data,d,indent=2)\n",
    "\n"
   ]
  }
 ],
 "metadata": {
  "kernelspec": {
   "display_name": "hlsm-alfred",
   "language": "python",
   "name": "python3"
  },
  "language_info": {
   "codemirror_mode": {
    "name": "ipython",
    "version": 3
   },
   "file_extension": ".py",
   "mimetype": "text/x-python",
   "name": "python",
   "nbconvert_exporter": "python",
   "pygments_lexer": "ipython3",
   "version": "3.8.3"
  }
 },
 "nbformat": 4,
 "nbformat_minor": 2
}
