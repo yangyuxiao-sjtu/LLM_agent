{
 "cells": [
  {
   "cell_type": "code",
   "execution_count": 3,
   "metadata": {},
   "outputs": [],
   "source": [
    "import json\n",
    "with open('/mnt/sda/yuxiao_code/LLM_subgoal/prompts/llm_samples_n.json','r' )as f:\n",
    "    ori= json.load(f)\n",
    "with open('/mnt/sda/yuxiao_code/LLM_subgoal/prompts/pddl.json','r') as g:\n",
    "    pddl = json.load(g)\n",
    "new_data=[]\n",
    "for item in ori:\n",
    "    tsk= item[0]['task']\n",
    "    for pd in pddl:\n",
    "        if tsk in pd['task_desc']:\n",
    "            item[0]['task_desc']=pd['task_desc']\n",
    "            item[0]['pddl']=pd['pddl']\n",
    "            new_data.append(item)\n",
    "            break\n",
    "with open('/mnt/sda/yuxiao_code/LLM_subgoal/prompts/plld_n.json','w') as d:\n",
    "    json.dump(new_data,d,indent=2)\n"
   ]
  },
  {
   "cell_type": "code",
   "execution_count": 4,
   "metadata": {},
   "outputs": [
    {
     "ename": "FileNotFoundError",
     "evalue": "[Errno 2] No such file or directory: '/mnt/sda/yuxiao_code/LLM_subgoal/prompts/value_n.json'",
     "output_type": "error",
     "traceback": [
      "\u001b[0;31m---------------------------------------------------------------------------\u001b[0m",
      "\u001b[0;31mFileNotFoundError\u001b[0m                         Traceback (most recent call last)",
      "\u001b[0;32m<ipython-input-4-7f9d3641071f>\u001b[0m in \u001b[0;36m<module>\u001b[0;34m\u001b[0m\n\u001b[1;32m     13\u001b[0m             \u001b[0mnew_data\u001b[0m\u001b[0;34m.\u001b[0m\u001b[0mappend\u001b[0m\u001b[0;34m(\u001b[0m\u001b[0mitem\u001b[0m\u001b[0;34m)\u001b[0m\u001b[0;34m\u001b[0m\u001b[0;34m\u001b[0m\u001b[0m\n\u001b[1;32m     14\u001b[0m             \u001b[0;32mbreak\u001b[0m\u001b[0;34m\u001b[0m\u001b[0;34m\u001b[0m\u001b[0m\n\u001b[0;32m---> 15\u001b[0;31m \u001b[0;32mwith\u001b[0m \u001b[0mopen\u001b[0m\u001b[0;34m(\u001b[0m\u001b[0;34m'/mnt/sda/yuxiao_code/LLM_subgoal/prompts/value_n.json'\u001b[0m\u001b[0;34m,\u001b[0m\u001b[0;34m'r'\u001b[0m\u001b[0;34m)\u001b[0m \u001b[0;32mas\u001b[0m \u001b[0md\u001b[0m\u001b[0;34m:\u001b[0m\u001b[0;34m\u001b[0m\u001b[0;34m\u001b[0m\u001b[0m\n\u001b[0m\u001b[1;32m     16\u001b[0m     \u001b[0mjson\u001b[0m\u001b[0;34m.\u001b[0m\u001b[0mdump\u001b[0m\u001b[0;34m(\u001b[0m\u001b[0mnew_data\u001b[0m\u001b[0;34m,\u001b[0m\u001b[0md\u001b[0m\u001b[0;34m,\u001b[0m\u001b[0mindent\u001b[0m\u001b[0;34m=\u001b[0m\u001b[0;36m2\u001b[0m\u001b[0;34m)\u001b[0m\u001b[0;34m\u001b[0m\u001b[0;34m\u001b[0m\u001b[0m\n\u001b[1;32m     17\u001b[0m \u001b[0;34m\u001b[0m\u001b[0m\n",
      "\u001b[0;31mFileNotFoundError\u001b[0m: [Errno 2] No such file or directory: '/mnt/sda/yuxiao_code/LLM_subgoal/prompts/value_n.json'"
     ]
    }
   ],
   "source": [
    "import json\n",
    "with open('/mnt/sda/yuxiao_code/LLM_subgoal/prompts/value.json','r') as f:\n",
    "    ori = json.load(f)\n",
    "with open('/mnt/sda/yuxiao_code/LLM_subgoal/prompts/plld_n.json','r') as g:\n",
    "    pddl = json.load(g)\n",
    "new_data = []\n",
    "for item in ori:\n",
    "    tsk =item['task']\n",
    "    for tk in pddl:\n",
    "        if tsk in tk[0]['task_desc']:\n",
    "            item['task_desc']=tk[0]['task_desc']\n",
    "            item['pddl']=tk[0]['pddl']\n",
    "            new_data.append(item)\n",
    "            break\n",
    "with open('/mnt/sda/yuxiao_code/LLM_subgoal/prompts/value_n.json','w') as d:\n",
    "    json.dump(new_data,d,indent=2)\n",
    "\n"
   ]
  }
 ],
 "metadata": {
  "kernelspec": {
   "display_name": "hlsm-alfred",
   "language": "python",
   "name": "python3"
  },
  "language_info": {
   "codemirror_mode": {
    "name": "ipython",
    "version": 3
   },
   "file_extension": ".py",
   "mimetype": "text/x-python",
   "name": "python",
   "nbconvert_exporter": "python",
   "pygments_lexer": "ipython3",
   "version": "3.8.3"
  }
 },
 "nbformat": 4,
 "nbformat_minor": 2
}
